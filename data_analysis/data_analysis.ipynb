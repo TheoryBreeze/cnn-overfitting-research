{
 "cells": [
  {
   "cell_type": "code",
   "execution_count": 121,
   "metadata": {},
   "outputs": [],
   "source": [
    "import matplotlib.pyplot as plt\n",
    "import numpy as np\n",
    "from matplotlib.ticker import (MultipleLocator, AutoMinorLocator)\n",
    "import os"
   ]
  },
  {
   "attachments": {},
   "cell_type": "markdown",
   "metadata": {},
   "source": [
    "# Summary Statistics"
   ]
  },
  {
   "cell_type": "code",
   "execution_count": 116,
   "metadata": {},
   "outputs": [
    {
     "name": "stdout",
     "output_type": "stream",
     "text": [
      "3x3 trials\n",
      "Average Accuracy: 0.9890714228153229\n",
      "Average Loss: 0.05576973184943199\n",
      "STD Accuracy: 0.0012209921091322175\n",
      "STD Loss: 0.011119644258572136\n",
      "\n",
      "5x5 trials\n",
      "Average Accuracy: 0.9907857060432435\n",
      "Average Loss: 0.0493770208209753\n",
      "STD Accuracy: 0.0007960250090076004\n",
      "STD Loss: 0.008712722167199486\n",
      "\n",
      "7x7 trials\n",
      "Average Accuracy: 0.9895000100135803\n",
      "Average Loss: 0.06297319270670414\n",
      "STD Accuracy: 0.0010166986619237854\n",
      "STD Loss: 0.007930009395525862\n"
     ]
    }
   ],
   "source": [
    "# 3x3\n",
    "acc_per_fold = np.array([0.991428554058075, 0.9879999756813049, 0.9887142777442932, 0.9890000224113464, 0.9868571162223816, 0.9892857074737549, 0.9882857203483582, 0.9898571372032166, 0.9904285669326782, 0.9888571500778198])\n",
    "loss_per_fold = np.array([0.03796998783946037, 0.05122718587517738, 0.056529451161623, 0.04585742577910423, 0.05860196053981781, 0.05388730764389038, 0.05391485244035721, 0.0721539556980133, 0.04984080791473389, 0.07771438360214233])\n",
    "\n",
    "meanAcc3x3 = acc_per_fold.mean()\n",
    "meanLoss3x3 = loss_per_fold.mean()\n",
    "stdAcc3x3 = acc_per_fold.std()\n",
    "stdLoss3x3 = loss_per_fold.std()\n",
    "\n",
    "print(\"3x3 trials\")\n",
    "print(\"Average Accuracy:\", meanAcc3x3)\n",
    "print(\"Average Loss:\", meanLoss3x3)\n",
    "print(\"STD Accuracy:\", stdAcc3x3) \n",
    "print(\"STD Loss:\", stdLoss3x3)\n",
    "\n",
    "# 5x5\n",
    "acc_per_fold = np.array([0.9894285798072815, 0.9908571243286133, 0.991428554058075, 0.9908571243286133, 0.9919999837875366, 0.991428554058075, 0.9902856945991516, 0.9905714392662048, 0.991428554058075, 0.9895714521408081])\n",
    "loss_per_fold = np.array([0.05247381329536438, 0.052434198558330536, 0.04158655181527138, 0.04520716890692711, 0.048393432050943375, 0.045062098652124405, 0.071861632168293, 0.0401904322206974, 0.04327256605029106, 0.05328831449151039])\n",
    "\n",
    "meanAcc5x5 = acc_per_fold.mean()\n",
    "meanLoss5x5 = loss_per_fold.mean()\n",
    "stdAcc5x5 = acc_per_fold.std()\n",
    "stdLoss5x5 = loss_per_fold.std()\n",
    "\n",
    "print(\"\\n5x5 trials\")\n",
    "print(\"Average Accuracy:\", meanAcc5x5)\n",
    "print(\"Average Loss:\", meanLoss5x5)\n",
    "print(\"STD Accuracy:\", stdAcc5x5) \n",
    "print(\"STD Loss:\", stdLoss5x5)\n",
    "\n",
    "# 7x7\n",
    "acc_per_fold = np.array([0.9901428818702698, 0.9891428351402283, 0.9884285926818848, 0.9894285798072815, 0.9882857203483582, 0.9882857203483582, 0.9901428818702698, 0.9912857413291931, 0.9890000224113464, 0.9908571243286133])\n",
    "loss_per_fold = np.array([0.05801204591989517, 0.07239361107349396, 0.07435448467731476, 0.06371498107910156, 0.06303498893976212, 0.07054942846298218, 0.05711420625448227, 0.05801966041326523, 0.06573645025491714, 0.04680206999182701])\n",
    "\n",
    "meanAcc7x7 = acc_per_fold.mean()\n",
    "meanLoss7x7 = loss_per_fold.mean()\n",
    "stdAcc7x7 = acc_per_fold.std()\n",
    "stdLoss7x7 = loss_per_fold.std()\n",
    "\n",
    "print(\"\\n7x7 trials\")\n",
    "print(\"Average Accuracy:\", meanAcc7x7)\n",
    "print(\"Average Loss:\", meanLoss7x7)\n",
    "print(\"STD Accuracy:\", stdAcc7x7) \n",
    "print(\"STD Loss:\", stdLoss7x7)"
   ]
  },
  {
   "attachments": {},
   "cell_type": "markdown",
   "metadata": {},
   "source": [
    "# Graphs"
   ]
  },
  {
   "attachments": {},
   "cell_type": "markdown",
   "metadata": {},
   "source": [
    "## Mean Accuracy by Kernel Size"
   ]
  },
  {
   "cell_type": "code",
   "execution_count": 122,
   "metadata": {},
   "outputs": [
    {
     "data": {
      "image/png": "[encoded data removed]",
      "text/plain": [
       "<Figure size 432x288 with 1 Axes>"
      ]
     },
     "metadata": {},
     "output_type": "display_data"
    }
   ],
   "source": [
    "x = [\"3x3\", \"5x5\", \"7x7\"]\n",
    "acc_mean = [meanAcc3x3, meanAcc5x5, meanAcc7x7]\n",
    "acc_err = [stdAcc3x3, stdAcc5x5, stdAcc7x7]\n",
    "fig, ax = plt.subplots()\n",
    "fig.set_facecolor(\"white\")\n",
    "\n",
    "ax.bar(x, acc_mean, yerr=acc_err, capsize=5)\n",
    "\n",
    "# Title and Axes\n",
    "ax.set_title(\"Mean Accuracy by Kernel Size\")\n",
    "ax.set_xlabel(\"Kernel Size\")\n",
    "ax.set_ylabel(\"Mean Accuracy\")\n",
    "\n",
    "ax.set_xticks(x)\n",
    "ax.set_ylim(0.98, 1)\n",
    "ax.set_yticks(np.arange(0.98, 1.00, step=0.005))\n",
    "ax.yaxis.set_minor_locator(AutoMinorLocator(5))\n",
    "\n",
    "ax.tick_params(which='both', width=1)\n",
    "ax.tick_params(which='major', length=7)\n",
    "ax.tick_params(which='minor', length=4, color=\"#000\")\n",
    "\n",
    "# Grid\n",
    "plt.grid(which=\"major\", axis=\"y\", color=\"#000\", alpha=0.4)\n",
    "plt.grid(which=\"minor\", axis=\"y\", color=\"#000\", alpha=0.2)\n",
    "ax.set_axisbelow(True)\n",
    "\n",
    "# Save and Show\n",
    "my_path = os.path.abspath('')\n",
    "plt.savefig(my_path + \"\\\\graphs\\\\mean_acc_by_kernel_size.png\", dpi=400)\n",
    "plt.show()"
   ]
  },
  {
   "attachments": {},
   "cell_type": "markdown",
   "metadata": {},
   "source": [
    "## Mean Loss by Kernel Size"
   ]
  },
  {
   "cell_type": "code",
   "execution_count": 123,
   "metadata": {},
   "outputs": [
    {
     "data": {
      "image/png": "[encoded data removed]",
      "text/plain": [
       "<Figure size 432x288 with 1 Axes>"
      ]
     },
     "metadata": {},
     "output_type": "display_data"
    }
   ],
   "source": [
    "x = [\"3x3\", \"5x5\", \"7x7\"]\n",
    "loss_mean = [meanLoss3x3, meanLoss5x5, meanLoss7x7]\n",
    "loss_err = [stdLoss3x3, stdLoss5x5, stdLoss7x7]\n",
    "\n",
    "fig, ax = plt.subplots()\n",
    "fig.set_facecolor(\"white\")\n",
    "\n",
    "ax.bar(x, loss_mean, yerr=loss_err, capsize=5)\n",
    "\n",
    "# Title and Axes\n",
    "ax.set_title(\"Mean Loss by Kernel Size\")\n",
    "ax.set_xlabel(\"Kernel Size\")\n",
    "ax.set_ylabel(\"Mean Loss\")\n",
    "\n",
    "# Major & Minor Ticks\n",
    "ax.set_xticks(x)\n",
    "ax.set_yticks(np.arange(0, 0.09, step=0.02))\n",
    "ax.yaxis.set_minor_locator(AutoMinorLocator(4))\n",
    "\n",
    "ax.tick_params(which='both', width=1)\n",
    "ax.tick_params(which='major', length=7)\n",
    "ax.tick_params(which='minor', length=4)\n",
    "\n",
    "# Grid\n",
    "plt.grid(which=\"major\", axis=\"y\", color=\"#000\", alpha=0.4)\n",
    "plt.grid(which=\"minor\", axis=\"y\", color=\"#000\", alpha=0.2)\n",
    "ax.set_axisbelow(True)\n",
    "\n",
    "# Save and Show\n",
    "my_path = os.path.abspath('')\n",
    "plt.savefig(my_path + \"\\\\graphs\\\\mean_loss_by_kernel_size.png\", dpi=400)\n",
    "plt.show()"
   ]
  },
  {
   "attachments": {},
   "cell_type": "markdown",
   "metadata": {},
   "source": [
    "# CSV"
   ]
  },
  {
   "cell_type": "code",
   "execution_count": 138,
   "metadata": {},
   "outputs": [
    {
     "name": "stdout",
     "output_type": "stream",
     "text": [
      "Fold, 3x3, 5x5, 7x7\n",
      "1, 0.991428554058075, 0.9894285798072815, 0.9901428818702698\n",
      "2, 0.9879999756813049, 0.9908571243286133, 0.9891428351402283\n",
      "3, 0.9887142777442932, 0.991428554058075, 0.9884285926818848\n",
      "4, 0.9890000224113464, 0.9908571243286133, 0.9894285798072815\n",
      "5, 0.9868571162223816, 0.9919999837875366, 0.9882857203483582\n",
      "6, 0.9892857074737549, 0.991428554058075, 0.9882857203483582\n",
      "7, 0.9882857203483582, 0.9902856945991516, 0.9901428818702698\n",
      "8, 0.9898571372032166, 0.9905714392662048, 0.9912857413291931\n",
      "9, 0.9904285669326782, 0.991428554058075, 0.9890000224113464\n",
      "10, 0.9888571500778198, 0.9895714521408081, 0.9908571243286133\n"
     ]
    }
   ],
   "source": [
    "csv_acc_arr = []\n",
    "\n",
    "csv_acc_arr.append([0.991428554058075, 0.9879999756813049, 0.9887142777442932, 0.9890000224113464, 0.9868571162223816, 0.9892857074737549, 0.9882857203483582, 0.9898571372032166, 0.9904285669326782, 0.9888571500778198])\n",
    "csv_acc_arr.append([0.9894285798072815, 0.9908571243286133, 0.991428554058075, 0.9908571243286133, 0.9919999837875366, 0.991428554058075, 0.9902856945991516, 0.9905714392662048, 0.991428554058075, 0.9895714521408081])\n",
    "csv_acc_arr.append([0.9901428818702698, 0.9891428351402283, 0.9884285926818848, 0.9894285798072815, 0.9882857203483582, 0.9882857203483582, 0.9901428818702698, 0.9912857413291931, 0.9890000224113464, 0.9908571243286133])\n",
    "\n",
    "print(\"Fold, 3x3, 5x5, 7x7\")\n",
    "for i in range(0, len(csv_acc_arr[0])):\n",
    "  for j in range(-1, len(csv_acc_arr)):\n",
    "    if (j==-1):\n",
    "      print(str(i+1) + \", \", end=\"\")\n",
    "    elif (j==len(csv_acc_arr)-1):\n",
    "      print(str(csv_acc_arr[j][i]), end=\"\")\n",
    "    else: print(str(csv_acc_arr[j][i]) + \", \", end=\"\")\n",
    "    \n",
    "  print()"
   ]
  }
 ],
 "metadata": {
  "kernelspec": {
   "display_name": "Python 3.10.1 64-bit",
   "language": "python",
   "name": "python3"
  },
  "language_info": {
   "codemirror_mode": {
    "name": "ipython",
    "version": 3
   },
   "file_extension": ".py",
   "mimetype": "text/x-python",
   "name": "python",
   "nbconvert_exporter": "python",
   "pygments_lexer": "ipython3",
   "version": "3.10.1"
  },
  "orig_nbformat": 4,
  "vscode": {
   "interpreter": {
    "hash": "a0c7ae49d78f17e5ee497751678ee914a14173e9324dc52c0a88c28f44ecf4d4"
   }
  }
 },
 "nbformat": 4,
 "nbformat_minor": 2
}
