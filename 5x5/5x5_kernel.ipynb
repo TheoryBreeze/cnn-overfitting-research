{
 "cells": [
  {
   "cell_type": "markdown",
   "metadata": {},
   "source": [
    "# Setup and Pre-Processing"
   ]
  },
  {
   "cell_type": "code",
   "execution_count": 1,
   "metadata": {},
   "outputs": [],
   "source": [
    "import tensorflow as tf\n",
    "import matplotlib.pyplot as plt\n",
    "import numpy as np\n",
    "\n",
    "mnist = tf.keras.datasets.mnist\n",
    "\n",
    "# x has image data and y has labels\n",
    "(x_train, y_train), (x_test, y_test) = mnist.load_data()\n",
    "\n",
    "# Showing first image in color & grayscale\n",
    "# plt.imshow(x_train[1])\n",
    "# plt.show()\n",
    "# plt.imshow(x_train[1], cmap = plt.cm.binary)\n",
    "# plt.show()\n",
    "\n",
    "\"\"\"Pre-Processing\"\"\"\n",
    "\n",
    "# normalizing range: 0-255 -> 0-1\n",
    "x_train = tf.keras.utils.normalize(x_train, axis = 1)\n",
    "# print(x_train[0])\n",
    "x_test = tf.keras.utils.normalize(x_test, axis = 1)\n",
    "\n",
    "# Resizing images to make them suitable for convolution operation\n",
    "## https://www.w3schools.com/python/numpy/numpy_array_reshape.asp\n",
    "IMG_SIZE = 28\n",
    "\n",
    "# Merge inputs and targets\n",
    "inputs = np.concatenate((x_train, x_test), axis=0)\n",
    "targets = np.concatenate((y_train, y_test), axis=0)\n",
    "\n",
    "# Resize for kernel operations\n",
    "inputs_r = np.array(inputs).reshape(-1, IMG_SIZE, IMG_SIZE, 1)"
   ]
  },
  {
   "cell_type": "markdown",
   "metadata": {},
   "source": [
    "# Creating & Training Deep Neural Network\n",
    "(with k-fold cross-validation)"
   ]
  },
  {
   "cell_type": "code",
   "execution_count": 2,
   "metadata": {},
   "outputs": [
    {
     "name": "stdout",
     "output_type": "stream",
     "text": [
      "------------------------------------------------------------------------\n",
      "Training for fold 1 ...\n",
      "Epoch 1/12\n",
      "1750/1750 [==============================] - 31s 18ms/step - loss: 0.8066 - accuracy: 0.7251\n",
      "Epoch 2/12\n",
      "1750/1750 [==============================] - 38s 22ms/step - loss: 0.4065 - accuracy: 0.8730\n",
      "Epoch 3/12\n",
      "1750/1750 [==============================] - 37s 21ms/step - loss: 0.3329 - accuracy: 0.8971\n",
      "Epoch 4/12\n",
      "1750/1750 [==============================] - 40s 23ms/step - loss: 0.2857 - accuracy: 0.9109\n",
      "Epoch 5/12\n",
      "1750/1750 [==============================] - 40s 23ms/step - loss: 0.2635 - accuracy: 0.9187\n",
      "Epoch 6/12\n",
      "1750/1750 [==============================] - 41s 23ms/step - loss: 0.2410 - accuracy: 0.9253\n",
      "Epoch 7/12\n",
      "1750/1750 [==============================] - 39s 22ms/step - loss: 0.2275 - accuracy: 0.9288\n",
      "Epoch 8/12\n",
      "1750/1750 [==============================] - 43s 24ms/step - loss: 0.2196 - accuracy: 0.9307\n",
      "Epoch 9/12\n",
      "1750/1750 [==============================] - 38s 22ms/step - loss: 0.2011 - accuracy: 0.9368\n",
      "Epoch 10/12\n",
      "1750/1750 [==============================] - 42s 24ms/step - loss: 0.2024 - accuracy: 0.9361\n",
      "Epoch 11/12\n",
      "1750/1750 [==============================] - 40s 23ms/step - loss: 0.1841 - accuracy: 0.9389\n",
      "Epoch 12/12\n",
      "1750/1750 [==============================] - 46s 26ms/step - loss: 0.1742 - accuracy: 0.9428\n",
      "438/438 [==============================] - 4s 9ms/step - loss: 0.0598 - accuracy: 0.9889\n",
      "Score for fold 1: loss of 0.059780169278383255; accuracy of 98.88571500778198%\n",
      "------------------------------------------------------------------------\n",
      "Training for fold 2 ...\n",
      "Epoch 1/12\n",
      "1750/1750 [==============================] - 45s 25ms/step - loss: 0.7157 - accuracy: 0.7664\n",
      "Epoch 2/12\n",
      "1750/1750 [==============================] - 43s 25ms/step - loss: 0.3408 - accuracy: 0.8936\n",
      "Epoch 3/12\n",
      "1750/1750 [==============================] - 41s 24ms/step - loss: 0.2741 - accuracy: 0.9149\n",
      "Epoch 4/12\n",
      "1750/1750 [==============================] - 41s 23ms/step - loss: 0.2462 - accuracy: 0.9213\n",
      "Epoch 5/12\n",
      "1750/1750 [==============================] - 40s 23ms/step - loss: 0.2255 - accuracy: 0.9268\n",
      "Epoch 6/12\n",
      "1750/1750 [==============================] - 39s 22ms/step - loss: 0.2137 - accuracy: 0.9285\n",
      "Epoch 7/12\n",
      "1750/1750 [==============================] - 49s 28ms/step - loss: 0.1990 - accuracy: 0.9341\n",
      "Epoch 8/12\n",
      "1750/1750 [==============================] - 43s 24ms/step - loss: 0.1923 - accuracy: 0.9349\n",
      "Epoch 9/12\n",
      "1750/1750 [==============================] - 45s 26ms/step - loss: 0.1860 - accuracy: 0.9368\n",
      "Epoch 10/12\n",
      "1750/1750 [==============================] - 49s 28ms/step - loss: 0.1730 - accuracy: 0.9414\n",
      "Epoch 11/12\n",
      "1750/1750 [==============================] - 50s 29ms/step - loss: 0.1631 - accuracy: 0.9454\n",
      "Epoch 12/12\n",
      "1750/1750 [==============================] - 51s 29ms/step - loss: 0.1642 - accuracy: 0.9450\n",
      "438/438 [==============================] - 4s 9ms/step - loss: 0.0550 - accuracy: 0.9885\n",
      "Score for fold 2: loss of 0.05495529621839523; accuracy of 98.84999990463257%\n",
      "------------------------------------------------------------------------\n",
      "Training for fold 3 ...\n",
      "Epoch 1/12\n",
      "1750/1750 [==============================] - 49s 27ms/step - loss: 0.6974 - accuracy: 0.7709\n",
      "Epoch 2/12\n",
      "1750/1750 [==============================] - 50s 29ms/step - loss: 0.3177 - accuracy: 0.9026\n",
      "Epoch 3/12\n",
      "1750/1750 [==============================] - 46s 26ms/step - loss: 0.2534 - accuracy: 0.9221\n",
      "Epoch 4/12\n",
      "1750/1750 [==============================] - 48s 27ms/step - loss: 0.2179 - accuracy: 0.9324\n",
      "Epoch 5/12\n",
      "1750/1750 [==============================] - 43s 25ms/step - loss: 0.2032 - accuracy: 0.9369\n",
      "Epoch 6/12\n",
      "1750/1750 [==============================] - 42s 24ms/step - loss: 0.1898 - accuracy: 0.9406\n",
      "Epoch 7/12\n",
      "1750/1750 [==============================] - 42s 24ms/step - loss: 0.1775 - accuracy: 0.9425\n",
      "Epoch 8/12\n",
      "1750/1750 [==============================] - 41s 23ms/step - loss: 0.1730 - accuracy: 0.9445\n",
      "Epoch 9/12\n",
      "1750/1750 [==============================] - 41s 23ms/step - loss: 0.1623 - accuracy: 0.9479\n",
      "Epoch 10/12\n",
      "1750/1750 [==============================] - 42s 24ms/step - loss: 0.1520 - accuracy: 0.9504\n",
      "Epoch 11/12\n",
      "1750/1750 [==============================] - 46s 26ms/step - loss: 0.1431 - accuracy: 0.9531\n",
      "Epoch 12/12\n",
      "1750/1750 [==============================] - 46s 27ms/step - loss: 0.1416 - accuracy: 0.9542\n",
      "438/438 [==============================] - 5s 10ms/step - loss: 0.0561 - accuracy: 0.9896\n",
      "Score for fold 3: loss of 0.05606755241751671; accuracy of 98.9642858505249%\n",
      "------------------------------------------------------------------------\n",
      "Training for fold 4 ...\n",
      "Epoch 1/12\n",
      "1750/1750 [==============================] - 46s 26ms/step - loss: 0.7557 - accuracy: 0.7498\n",
      "Epoch 2/12\n",
      "1750/1750 [==============================] - 40s 23ms/step - loss: 0.3760 - accuracy: 0.8820\n",
      "Epoch 3/12\n",
      "1750/1750 [==============================] - 40s 23ms/step - loss: 0.3139 - accuracy: 0.9026\n",
      "Epoch 4/12\n",
      "1750/1750 [==============================] - 41s 23ms/step - loss: 0.2902 - accuracy: 0.9102\n",
      "Epoch 5/12\n",
      "1750/1750 [==============================] - 41s 23ms/step - loss: 0.2543 - accuracy: 0.9201\n",
      "Epoch 6/12\n",
      "1750/1750 [==============================] - 41s 24ms/step - loss: 0.2467 - accuracy: 0.9227\n",
      "Epoch 7/12\n",
      "1750/1750 [==============================] - 40s 23ms/step - loss: 0.2184 - accuracy: 0.9316\n",
      "Epoch 8/12\n",
      "1750/1750 [==============================] - 40s 23ms/step - loss: 0.2118 - accuracy: 0.9310\n",
      "Epoch 9/12\n",
      "1750/1750 [==============================] - 46s 26ms/step - loss: 0.1996 - accuracy: 0.9358\n",
      "Epoch 10/12\n",
      "1750/1750 [==============================] - 44s 25ms/step - loss: 0.1953 - accuracy: 0.9367\n",
      "Epoch 11/12\n",
      "1750/1750 [==============================] - 44s 25ms/step - loss: 0.1857 - accuracy: 0.9393\n",
      "Epoch 12/12\n",
      "1750/1750 [==============================] - 45s 26ms/step - loss: 0.1806 - accuracy: 0.9415\n",
      "438/438 [==============================] - 5s 10ms/step - loss: 0.0632 - accuracy: 0.9871\n",
      "Score for fold 4: loss of 0.06317544728517532; accuracy of 98.71428608894348%\n",
      "------------------------------------------------------------------------\n",
      "Training for fold 5 ...\n",
      "Epoch 1/12\n",
      "1750/1750 [==============================] - 49s 27ms/step - loss: 0.7382 - accuracy: 0.7535\n",
      "Epoch 2/12\n",
      "1750/1750 [==============================] - 42s 24ms/step - loss: 0.3733 - accuracy: 0.8809\n",
      "Epoch 3/12\n",
      "1750/1750 [==============================] - 42s 24ms/step - loss: 0.2966 - accuracy: 0.9057\n",
      "Epoch 4/12\n",
      "1750/1750 [==============================] - 41s 23ms/step - loss: 0.2577 - accuracy: 0.9201\n",
      "Epoch 5/12\n",
      "1750/1750 [==============================] - 41s 24ms/step - loss: 0.2374 - accuracy: 0.9248\n",
      "Epoch 6/12\n",
      "1750/1750 [==============================] - 41s 23ms/step - loss: 0.2199 - accuracy: 0.9304\n",
      "Epoch 7/12\n",
      "1750/1750 [==============================] - 40s 23ms/step - loss: 0.2073 - accuracy: 0.9329\n",
      "Epoch 8/12\n",
      "1750/1750 [==============================] - 41s 23ms/step - loss: 0.1942 - accuracy: 0.9381\n",
      "Epoch 9/12\n",
      "1750/1750 [==============================] - 40s 23ms/step - loss: 0.1896 - accuracy: 0.9383\n",
      "Epoch 10/12\n",
      "1750/1750 [==============================] - 40s 23ms/step - loss: 0.1838 - accuracy: 0.9406\n",
      "Epoch 11/12\n",
      "1750/1750 [==============================] - 45s 26ms/step - loss: 0.1760 - accuracy: 0.9418\n",
      "Epoch 12/12\n",
      "1750/1750 [==============================] - 40s 23ms/step - loss: 0.1745 - accuracy: 0.9430\n",
      "438/438 [==============================] - 4s 8ms/step - loss: 0.0553 - accuracy: 0.9888\n",
      "Score for fold 5: loss of 0.05531855672597885; accuracy of 98.87857437133789%\n"
     ]
    }
   ],
   "source": [
    "# Training on 60000 samples of MNIST handwritten dataset\n",
    "from tensorflow.keras.models import Sequential # \"Sequentially\" connect the layers\n",
    "from tensorflow.keras.layers import Dense, Dropout, Activation, Flatten, Conv2D, MaxPooling2D # These are the layers\n",
    "from sklearn.model_selection import KFold\n",
    "\n",
    "# Define the K-fold Cross Validator\n",
    "kfold = KFold(n_splits=5, shuffle=True)\n",
    "acc_per_fold = []\n",
    "loss_per_fold = []\n",
    "training_metrics = []\n",
    "\n",
    "fold_no = 1\n",
    "for train, test in kfold.split(inputs_r, targets):\n",
    "  # Creating a neural network\n",
    "  model = Sequential()\n",
    "\n",
    "  ## First Convolution Layer\n",
    "  model.add(Conv2D(64, (3, 3), input_shape = inputs_r.shape[1:]))\n",
    "  model.add(Activation(\"relu\"))\n",
    "  model.add(MaxPooling2D(pool_size = (2, 2)))\n",
    "\n",
    "  ## Second Convolution Layer\n",
    "  model.add(Conv2D(64, (3, 3)))\n",
    "  model.add(Activation(\"relu\"))\n",
    "  model.add(MaxPooling2D(pool_size = (2, 2)))\n",
    "\n",
    "  ## Fully connected layer 1\n",
    "  model.add(Flatten())\n",
    "  model.add(Dense(64))\n",
    "  model.add(Dropout(0.5))\n",
    "  model.add(Activation(\"relu\"))\n",
    "\n",
    "  ## Fully connected layer 2\n",
    "  model.add(Dense(32))\n",
    "  model.add(Dropout(0.5))\n",
    "  model.add(Activation(\"relu\"))\n",
    "\n",
    "  ## Last fully connected layer (Output layer)\n",
    "  model.add(Dense(10))\n",
    "  model.add(Activation(\"softmax\"))\n",
    "\n",
    "  \n",
    "  # Last step of setup\n",
    "  model.compile(loss = \"sparse_categorical_crossentropy\", optimizer = \"adam\", metrics = [\"accuracy\"])\n",
    "\n",
    "\n",
    "  # Separate folds\n",
    "  print('------------------------------------------------------------------------')\n",
    "  print(f'Training for fold {fold_no} ...')\n",
    "\n",
    "  # Fit data to model\n",
    "  history = model.fit(inputs_r[train], targets[train], epochs = 12)\n",
    "\n",
    "  # Collect training metrics (accuracy & loss) on each epoch\n",
    "  training_metrics.append(history.history)\n",
    "  \n",
    "  # Generate and store overall model metrics\n",
    "  scores = model.evaluate(inputs_r[test], targets[test])\n",
    "  print(f'Score for fold {fold_no}: {model.metrics_names[0]} of {scores[0]}; {model.metrics_names[1]} of {scores[1]*100}%')\n",
    "\n",
    "  acc_per_fold.append(scores[1] * 100)\n",
    "  loss_per_fold.append(scores[0])\n",
    "\n",
    "  # Increase fold number\n",
    "  fold_no = fold_no + 1"
   ]
  },
  {
   "cell_type": "markdown",
   "metadata": {},
   "source": [
    "# Store Data"
   ]
  },
  {
   "cell_type": "code",
   "execution_count": 8,
   "metadata": {},
   "outputs": [],
   "source": [
    "acc_per_fold1 = [x/100 for x in acc_per_fold]\n",
    "with open(\"5x5_metrics.py\", \"w\") as file:\n",
    "  file.write(\"acc_per_fold = \" + str(acc_per_fold1) +\n",
    "             \"\\nloss_per_fold = \" + str(loss_per_fold) +\n",
    "             \"\\ntraining_metrics = \" + str(training_metrics))"
   ]
  },
  {
   "cell_type": "markdown",
   "metadata": {},
   "source": [
    "# Data Visualization"
   ]
  },
  {
   "cell_type": "markdown",
   "metadata": {},
   "source": [
    "### Fold Metrics"
   ]
  },
  {
   "cell_type": "markdown",
   "metadata": {},
   "source": [
    "#### Accuracy by Fold"
   ]
  },
  {
   "cell_type": "code",
   "execution_count": 15,
   "metadata": {},
   "outputs": [
    {
     "data": {
      "image/png": "[encoded data removed]",
      "text/plain": [
       "<Figure size 432x288 with 1 Axes>"
      ]
     },
     "metadata": {},
     "output_type": "display_data"
    }
   ],
   "source": [
    "x_fold = range(1, 6)\n",
    "y_fold_acc = acc_per_fold1\n",
    "\n",
    "fig, ax = plt.subplots()\n",
    "fig.set_facecolor(\"white\")\n",
    "\n",
    "ax.bar(x_fold, y_fold_acc)\n",
    "\n",
    "# Title and Axes\n",
    "ax.set_title(\"Accuracy by Fold\")\n",
    "ax.set_xlabel(\"Fold\")\n",
    "ax.set_ylabel(\"Accuracy\")\n",
    "ax.set_xticks(x_fold)\n",
    "ax.set_ylim(0.98, 0.99)\n",
    "\n",
    "plt.show()"
   ]
  },
  {
   "cell_type": "markdown",
   "metadata": {},
   "source": [
    "#### Loss by Fold"
   ]
  },
  {
   "cell_type": "code",
   "execution_count": 16,
   "metadata": {},
   "outputs": [
    {
     "data": {
      "image/png": "[encoded data removed]",
      "text/plain": [
       "<Figure size 432x288 with 1 Axes>"
      ]
     },
     "metadata": {},
     "output_type": "display_data"
    }
   ],
   "source": [
    "x_fold = range(1, 6)\n",
    "y_fold_loss = loss_per_fold\n",
    "\n",
    "fig, ax = plt.subplots()\n",
    "fig.set_facecolor(\"white\")\n",
    "\n",
    "ax.bar(x_fold, y_fold_loss)\n",
    "\n",
    "# Title and Axes\n",
    "ax.set_title(\"Loss by Fold\")\n",
    "ax.set_xlabel(\"Fold\")\n",
    "ax.set_ylabel(\"Accuracy\")\n",
    "ax.set_xticks(x_fold)\n",
    "\n",
    "plt.show()"
   ]
  },
  {
   "cell_type": "markdown",
   "metadata": {},
   "source": [
    "### Accuracy vs. Epoch"
   ]
  },
  {
   "cell_type": "code",
   "execution_count": 17,
   "metadata": {},
   "outputs": [
    {
     "data": {
      "image/png": "[encoded data removed]",
      "text/plain": [
       "<Figure size 576x288 with 1 Axes>"
      ]
     },
     "metadata": {
      "needs_background": "light"
     },
     "output_type": "display_data"
    }
   ],
   "source": [
    "y_acc = history.history[\"accuracy\"]\n",
    "y_val_acc = history.history[\"val_accuracy\"]\n",
    "x_acc = range(1, len(y_acc)+1)\n",
    "\n",
    "fig, ax = plt.subplots(figsize=(8, 4))\n",
    "fig.set_facecolor(\"white\")\n",
    "\n",
    "ax.plot(x_acc, y_acc, \"-o\", label=\"Training Accuracy\")\n",
    "ax.plot(x_acc, y_val_acc, \"-o\", label=\"Validation Accuracy\")\n",
    "\n",
    "# Title and Axes\n",
    "ax.set_title(\"Accuracy vs. Epoch\")\n",
    "ax.set_xlabel(\"Epoch\")\n",
    "ax.set_ylabel(\"Accuracy\")\n",
    "ax.set_xticks(x_acc)\n",
    "\n",
    "# Legend\n",
    "handles, labels = ax.get_legend_handles_labels()\n",
    "ax.legend(handles, labels)\n",
    "\n",
    "plt.show()"
   ]
  },
  {
   "cell_type": "markdown",
   "metadata": {},
   "source": [
    "### Loss vs. Epoch"
   ]
  },
  {
   "cell_type": "code",
   "execution_count": 19,
   "metadata": {},
   "outputs": [
    {
     "data": {
      "image/png": "[encoded data removed]",
      "text/plain": [
       "<Figure size 576x288 with 1 Axes>"
      ]
     },
     "metadata": {
      "needs_background": "light"
     },
     "output_type": "display_data"
    }
   ],
   "source": [
    "y_loss = history.history[\"loss\"]\n",
    "y_val_loss = history.history[\"val_loss\"]\n",
    "x_loss = range(1, len(y_loss)+1)\n",
    "\n",
    "fig, ax = plt.subplots(figsize=(8, 4))\n",
    "fig.set_facecolor(\"white\")\n",
    "\n",
    "ax.plot(x_loss, y_loss, \"-o\", label=\"Training Loss\")\n",
    "ax.plot(x_loss, y_val_loss, \"-o\", label=\"Validation Loss\")\n",
    "\n",
    "# Title and Axes\n",
    "ax.set_title(\"Loss vs. Epoch\")\n",
    "ax.set_xlabel(\"Epoch\")\n",
    "ax.set_ylabel(\"Loss\")\n",
    "ax.set_xticks(x_loss)\n",
    "\n",
    "# Legend\n",
    "handles, labels = ax.get_legend_handles_labels()\n",
    "ax.legend(handles, labels)\n",
    "\n",
    "plt.show()"
   ]
  }
 ],
 "metadata": {
  "kernelspec": {
   "display_name": "Python 3.10.1 64-bit",
   "language": "python",
   "name": "python3"
  },
  "language_info": {
   "codemirror_mode": {
    "name": "ipython",
    "version": 3
   },
   "file_extension": ".py",
   "mimetype": "text/x-python",
   "name": "python",
   "nbconvert_exporter": "python",
   "pygments_lexer": "ipython3",
   "version": "3.10.1"
  },
  "orig_nbformat": 4,
  "vscode": {
   "interpreter": {
    "hash": "a0c7ae49d78f17e5ee497751678ee914a14173e9324dc52c0a88c28f44ecf4d4"
   }
  }
 },
 "nbformat": 4,
 "nbformat_minor": 2
}
