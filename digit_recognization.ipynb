{
 "cells": [
  {
   "cell_type": "markdown",
   "metadata": {},
   "source": [
    "# Setup and Pre-Processing"
   ]
  },
  {
   "cell_type": "code",
   "execution_count": 1,
   "metadata": {},
   "outputs": [],
   "source": [
    "import tensorflow as tf\n",
    "import matplotlib.pyplot as plt\n",
    "import numpy as np\n",
    "\n",
    "mnist = tf.keras.datasets.mnist\n",
    "\n",
    "# x has image data and y has labels\n",
    "(x_train, y_train), (x_test, y_test) = mnist.load_data()\n",
    "\n",
    "# Showing first image in color & grayscale\n",
    "# plt.imshow(x_train[1])\n",
    "# plt.show()\n",
    "# plt.imshow(x_train[1], cmap = plt.cm.binary)\n",
    "# plt.show()\n",
    "\n",
    "\"\"\"Pre-Processing\"\"\"\n",
    "\n",
    "# normalizing range: 0-255 -> 0-1\n",
    "x_train = tf.keras.utils.normalize(x_train, axis = 1)\n",
    "# print(x_train[0])\n",
    "x_test = tf.keras.utils.normalize(x_test, axis = 1)\n",
    "\n",
    "# Resizing images to make them suitable for convolution operation\n",
    "## https://www.w3schools.com/python/numpy/numpy_array_reshape.asp\n",
    "IMG_SIZE = 28\n",
    "x_trainr = np.array(x_train).reshape(-1, IMG_SIZE, IMG_SIZE, 1) # increasing one dimension for kernel, or convolution layer, operation\n",
    "x_testr = np.array(x_test).reshape(-1, IMG_SIZE, IMG_SIZE, 1)"
   ]
  },
  {
   "cell_type": "markdown",
   "metadata": {},
   "source": [
    "# Creating Deep Neural Network"
   ]
  },
  {
   "cell_type": "code",
   "execution_count": 2,
   "metadata": {},
   "outputs": [
    {
     "name": "stdout",
     "output_type": "stream",
     "text": [
      "Model: \"sequential\"\n",
      "_________________________________________________________________\n",
      " Layer (type)                Output Shape              Param #   \n",
      "=================================================================\n",
      " conv2d (Conv2D)             (None, 26, 26, 64)        640       \n",
      "                                                                 \n",
      " activation (Activation)     (None, 26, 26, 64)        0         \n",
      "                                                                 \n",
      " max_pooling2d (MaxPooling2D  (None, 13, 13, 64)       0         \n",
      " )                                                               \n",
      "                                                                 \n",
      " conv2d_1 (Conv2D)           (None, 11, 11, 64)        36928     \n",
      "                                                                 \n",
      " activation_1 (Activation)   (None, 11, 11, 64)        0         \n",
      "                                                                 \n",
      " max_pooling2d_1 (MaxPooling  (None, 5, 5, 64)         0         \n",
      " 2D)                                                             \n",
      "                                                                 \n",
      " flatten (Flatten)           (None, 1600)              0         \n",
      "                                                                 \n",
      " dense (Dense)               (None, 64)                102464    \n",
      "                                                                 \n",
      " dropout (Dropout)           (None, 64)                0         \n",
      "                                                                 \n",
      " activation_2 (Activation)   (None, 64)                0         \n",
      "                                                                 \n",
      " dense_1 (Dense)             (None, 32)                2080      \n",
      "                                                                 \n",
      " dropout_1 (Dropout)         (None, 32)                0         \n",
      "                                                                 \n",
      " activation_3 (Activation)   (None, 32)                0         \n",
      "                                                                 \n",
      " dense_2 (Dense)             (None, 10)                330       \n",
      "                                                                 \n",
      " activation_4 (Activation)   (None, 10)                0         \n",
      "                                                                 \n",
      "=================================================================\n",
      "Total params: 142,442\n",
      "Trainable params: 142,442\n",
      "Non-trainable params: 0\n",
      "_________________________________________________________________\n",
      "None\n"
     ]
    }
   ],
   "source": [
    "# Training on 60000 samples of MNIST handwritten dataset\n",
    "from tensorflow.keras.models import Sequential # \"Sequentially\" connect the layers\n",
    "from tensorflow.keras.layers import Dense, Dropout, Activation, Flatten, Conv2D, MaxPooling2D # These are the layers\n",
    "\n",
    "# Creating a neural network\n",
    "model = Sequential()\n",
    "\n",
    "## First Convolution Layer\n",
    "model.add(Conv2D(64, (3, 3), input_shape = x_trainr.shape[1:])) # First convolution layer: there are 64 filters each 3x3 pixels. Specifying input layer size (28, 28, 1) - we only need to do this once.\n",
    "model.add(Activation(\"relu\")) # Activation function make data non-linear: ReLU turns negative numbers to 0\n",
    "# Activation functions: https://www.youtube.com/watch?v=-7scQpJT7uo\n",
    "model.add(MaxPooling2D(pool_size = (2, 2))) # Maxpooling: taking maximum value within each 2x2 pixel area\n",
    "\n",
    "## Second Convolution Layer\n",
    "model.add(Conv2D(64, (3, 3)))\n",
    "model.add(Activation(\"relu\"))\n",
    "model.add(MaxPooling2D(pool_size = (2, 2)))\n",
    "\n",
    "## Fully connected layer 1\n",
    "model.add(Flatten()) # Flattening: Multi-dimensional array -> 1D array\n",
    "model.add(Dense(64)) # Dense: 64 neurons are connected\n",
    "model.add(Dropout(0.5))\n",
    "model.add(Activation(\"relu\"))\n",
    "\n",
    "## Fully connected layer 2\n",
    "model.add(Dense(32)) # Dense: 32 neurons are connected. Trying to get down to 10 (# of digits)\n",
    "model.add(Dropout(0.5))\n",
    "model.add(Activation(\"relu\"))\n",
    "\n",
    "## Last fully connected layer (Output layer)\n",
    "model.add(Dense(10))\n",
    "model.add(Activation(\"softmax\")) # Activation function: Softmax turns vector of real values to sum to 1 so they can be read as probabilities\n",
    "# In binary classification (2 things), there is one neuron in dense layer and sigmoid function is used\n",
    "\n",
    "print(model.summary()) # Look at how the shape of output condenses\n",
    "\n",
    "# Last step of setup\n",
    "model.compile(loss = \"sparse_categorical_crossentropy\", optimizer = \"adam\", metrics = [\"accuracy\"])\n",
    "# what is sparse categorical crossentropy???"
   ]
  },
  {
   "cell_type": "markdown",
   "metadata": {},
   "source": [
    "# Training the Model"
   ]
  },
  {
   "cell_type": "code",
   "execution_count": 3,
   "metadata": {},
   "outputs": [
    {
     "name": "stdout",
     "output_type": "stream",
     "text": [
      "Epoch 1/12\n",
      "1313/1313 [==============================] - 29s 21ms/step - loss: 0.7664 - accuracy: 0.7490 - val_loss: 0.1332 - val_accuracy: 0.9662\n",
      "Epoch 2/12\n",
      "1313/1313 [==============================] - 33s 25ms/step - loss: 0.3566 - accuracy: 0.8925 - val_loss: 0.0913 - val_accuracy: 0.9761\n",
      "Epoch 3/12\n",
      "1313/1313 [==============================] - 38s 29ms/step - loss: 0.2769 - accuracy: 0.9164 - val_loss: 0.0843 - val_accuracy: 0.9784\n",
      "Epoch 4/12\n",
      "1313/1313 [==============================] - 36s 27ms/step - loss: 0.2369 - accuracy: 0.9314 - val_loss: 0.0731 - val_accuracy: 0.9821\n",
      "Epoch 5/12\n",
      "1313/1313 [==============================] - 32s 24ms/step - loss: 0.2139 - accuracy: 0.9364 - val_loss: 0.0687 - val_accuracy: 0.9832\n",
      "Epoch 6/12\n",
      "1313/1313 [==============================] - 35s 27ms/step - loss: 0.1872 - accuracy: 0.9441 - val_loss: 0.0749 - val_accuracy: 0.9819\n",
      "Epoch 7/12\n",
      "1313/1313 [==============================] - 35s 27ms/step - loss: 0.1760 - accuracy: 0.9455 - val_loss: 0.0601 - val_accuracy: 0.9867\n",
      "Epoch 8/12\n",
      "1313/1313 [==============================] - 37s 28ms/step - loss: 0.1635 - accuracy: 0.9486 - val_loss: 0.0611 - val_accuracy: 0.9861\n",
      "Epoch 9/12\n",
      "1313/1313 [==============================] - 42s 32ms/step - loss: 0.1603 - accuracy: 0.9521 - val_loss: 0.0702 - val_accuracy: 0.9868\n",
      "Epoch 10/12\n",
      "1313/1313 [==============================] - 38s 29ms/step - loss: 0.1477 - accuracy: 0.9548 - val_loss: 0.0751 - val_accuracy: 0.9858\n",
      "Epoch 11/12\n",
      "1313/1313 [==============================] - 34s 26ms/step - loss: 0.1402 - accuracy: 0.9549 - val_loss: 0.0580 - val_accuracy: 0.9887\n",
      "Epoch 12/12\n",
      "1313/1313 [==============================] - 37s 28ms/step - loss: 0.1291 - accuracy: 0.9596 - val_loss: 0.0596 - val_accuracy: 0.9885\n"
     ]
    }
   ],
   "source": [
    "history = model.fit(x_trainr, y_train, epochs = 12, validation_split = 0.3) # Epochs are ways to go through training data. Validation split is the fraction of data used for validation.\n",
    "# When validation accuracy = accuracy, you are doing well\n",
    "# When validation accuracy < accuracy, you are overfitting. Solution is to drop out some layers."
   ]
  },
  {
   "cell_type": "markdown",
   "metadata": {},
   "source": [
    "# Data Visualization"
   ]
  },
  {
   "cell_type": "markdown",
   "metadata": {},
   "source": [
    "### Accuracy vs. Epoch"
   ]
  },
  {
   "cell_type": "code",
   "execution_count": 17,
   "metadata": {},
   "outputs": [
    {
     "data": {
      "image/png": "[encoded data removed]",
      "text/plain": [
       "<Figure size 576x288 with 1 Axes>"
      ]
     },
     "metadata": {
      "needs_background": "light"
     },
     "output_type": "display_data"
    }
   ],
   "source": [
    "y_acc = history.history[\"accuracy\"]\n",
    "y_val_acc = history.history[\"val_accuracy\"]\n",
    "x_acc = range(1, len(y_acc)+1)\n",
    "\n",
    "fig, ax = plt.subplots(figsize=(8, 4))\n",
    "ax.plot(x_acc, y_acc, \"-o\", label=\"Training Accuracy\")\n",
    "ax.plot(x_acc, y_val_acc, \"-o\", label=\"Validation Accuracy\")\n",
    "\n",
    "# Title and Axes\n",
    "ax.set_title(\"Accuracy vs. Epoch\")\n",
    "ax.set_xlabel(\"Epoch\")\n",
    "ax.set_ylabel(\"Accuracy\")\n",
    "ax.set_xticks(x_acc)\n",
    "\n",
    "# Legend\n",
    "handles, labels = ax.get_legend_handles_labels()\n",
    "ax.legend(handles, labels)\n",
    "\n",
    "plt.show()"
   ]
  },
  {
   "cell_type": "markdown",
   "metadata": {},
   "source": [
    "### Loss vs. Epoch"
   ]
  },
  {
   "cell_type": "code",
   "execution_count": 19,
   "metadata": {},
   "outputs": [
    {
     "data": {
      "image/png": "[encoded data removed]",
      "text/plain": [
       "<Figure size 576x288 with 1 Axes>"
      ]
     },
     "metadata": {
      "needs_background": "light"
     },
     "output_type": "display_data"
    }
   ],
   "source": [
    "y_loss = history.history[\"loss\"]\n",
    "y_val_loss = history.history[\"val_loss\"]\n",
    "x_loss = range(1, len(y_loss)+1)\n",
    "\n",
    "fig, ax = plt.subplots(figsize=(8, 4))\n",
    "ax.plot(x_loss, y_loss, \"-o\", label=\"Training Loss\")\n",
    "ax.plot(x_loss, y_val_loss, \"-o\", label=\"Validation Loss\")\n",
    "\n",
    "# Title and Axes\n",
    "ax.set_title(\"Loss vs. Epoch\")\n",
    "ax.set_xlabel(\"Epoch\")\n",
    "ax.set_ylabel(\"Loss\")\n",
    "ax.set_xticks(x_loss)\n",
    "\n",
    "# Legend\n",
    "handles, labels = ax.get_legend_handles_labels()\n",
    "ax.legend(handles, labels)\n",
    "\n",
    "plt.show()"
   ]
  },
  {
   "cell_type": "code",
   "execution_count": 5,
   "metadata": {},
   "outputs": [
    {
     "name": "stdout",
     "output_type": "stream",
     "text": [
      "313/313 [==============================] - 1s 5ms/step - loss: 0.0651 - accuracy: 0.9891\n",
      "Test loss on 10,000 test samples: 0.06506707519292831\n",
      "Validation accuracy on 10,000 test samples: 0.9890999794006348\n"
     ]
    }
   ],
   "source": [
    "test_loss, test_acc = model.evaluate(x_testr, y_test)\n",
    "print(\"Test loss on 10,000 test samples:\", test_loss)\n",
    "print(\"Validation accuracy on 10,000 test samples:\", test_acc)"
   ]
  },
  {
   "cell_type": "markdown",
   "metadata": {},
   "source": [
    "# Predictions"
   ]
  },
  {
   "cell_type": "code",
   "execution_count": 6,
   "metadata": {},
   "outputs": [
    {
     "name": "stdout",
     "output_type": "stream",
     "text": [
      "[[1.34938202e-33 3.55815497e-21 5.46756273e-16 ... 1.00000000e+00\n",
      "  6.77466366e-36 8.18079506e-19]\n",
      " [1.36917097e-22 1.13583427e-18 1.00000000e+00 ... 3.37527552e-14\n",
      "  5.06503044e-15 1.86714213e-22]\n",
      " [3.68339202e-13 1.00000000e+00 1.03390706e-10 ... 1.40302190e-12\n",
      "  1.38808548e-10 2.19315018e-12]\n",
      " ...\n",
      " [2.75346081e-24 6.60338824e-26 1.65924506e-23 ... 3.46313942e-31\n",
      "  2.34786195e-28 1.12094276e-15]\n",
      " [8.22907321e-23 2.56578376e-16 5.61313064e-16 ... 1.29922650e-21\n",
      "  1.25719828e-15 9.48206700e-20]\n",
      " [1.90067601e-12 1.56638571e-33 2.32088425e-25 ... 3.70280119e-30\n",
      "  3.64160972e-25 1.62076650e-29]]\n"
     ]
    }
   ],
   "source": [
    "predictions = model.predict([x_testr])"
   ]
  },
  {
   "cell_type": "code",
   "execution_count": 7,
   "metadata": {},
   "outputs": [
    {
     "name": "stdout",
     "output_type": "stream",
     "text": [
      "Prediction: 8\n"
     ]
    },
    {
     "data": {
      "text/plain": [
       "<matplotlib.image.AxesImage at 0x2396e269e40>"
      ]
     },
     "execution_count": 7,
     "metadata": {},
     "output_type": "execute_result"
    },
    {
     "data": {
      "image/png": "[encoded data removed]",
      "text/plain": [
       "<Figure size 432x288 with 1 Axes>"
      ]
     },
     "metadata": {
      "needs_background": "light"
     },
     "output_type": "display_data"
    }
   ],
   "source": [
    "testnum = 128\n",
    "print(\"Prediction:\", np.argmax(predictions[testnum])) # This gets the digit that had the maximum probability\n",
    "plt.imshow(x_test[testnum])"
   ]
  },
  {
   "cell_type": "markdown",
   "metadata": {},
   "source": [
    "# User Input Predictions"
   ]
  },
  {
   "cell_type": "code",
   "execution_count": 8,
   "metadata": {},
   "outputs": [
    {
     "data": {
      "text/plain": [
       "<matplotlib.image.AxesImage at 0x239700c70a0>"
      ]
     },
     "execution_count": 8,
     "metadata": {},
     "output_type": "execute_result"
    },
    {
     "data": {
      "image/png": "[encoded data removed]",
      "text/plain": [
       "<Figure size 432x288 with 1 Axes>"
      ]
     },
     "metadata": {
      "needs_background": "light"
     },
     "output_type": "display_data"
    }
   ],
   "source": [
    "# Getting image from user input\n",
    "import cv2\n",
    "path = \"C:\\\\Users\\\\eyung\\\\OneDrive\\\\Pictures\\\\tensorflow digit recognization samples\\\\number.png\"\n",
    "img = cv2.imread(path)\n",
    "plt.imshow(img)"
   ]
  },
  {
   "cell_type": "code",
   "execution_count": 10,
   "metadata": {},
   "outputs": [
    {
     "data": {
      "text/plain": [
       "<matplotlib.image.AxesImage at 0x2396e45c4c0>"
      ]
     },
     "execution_count": 10,
     "metadata": {},
     "output_type": "execute_result"
    },
    {
     "data": {
      "image/png": "[encoded data removed]",
      "text/plain": [
       "<Figure size 432x288 with 1 Axes>"
      ]
     },
     "metadata": {
      "needs_background": "light"
     },
     "output_type": "display_data"
    }
   ],
   "source": [
    "# Grayscale and resize to 28x28\n",
    "grayscaled = cv2.cvtColor(img, cv2.COLOR_BGR2GRAY)\n",
    "resized = cv2.resize(grayscaled, (28, 28), interpolation = cv2.INTER_AREA)\n",
    "plt.imshow(resized)"
   ]
  },
  {
   "cell_type": "code",
   "execution_count": 11,
   "metadata": {},
   "outputs": [
    {
     "name": "stdout",
     "output_type": "stream",
     "text": [
      "Predictions (top 3): 2, 7, 3\n",
      "Confidence Scores (top 3): 100.0%, 0.0%, 0.0%"
     ]
    }
   ],
   "source": [
    "# Making user input so it can be used by our model\n",
    "newimg = tf.keras.utils.normalize(resized, axis = 1) # Normalization\n",
    "newimg = np.array(newimg).reshape(-1, IMG_SIZE, IMG_SIZE, 1) # increasing one dimension for kernel, or convolution layer, operation\n",
    "\n",
    "# User input predictions\n",
    "userprediction = model.predict(newimg)\n",
    "topInd = np.argpartition(userprediction[0], -3)[-3:]\n",
    "topInd = topInd[np.argsort(userprediction[0][topInd])][::-1]\n",
    "print(\"Predictions (top 3): \", end=\"\")\n",
    "for i, x in enumerate(topInd):\n",
    "  if i == len(topInd) - 1:\n",
    "    print(x, end=\"\")\n",
    "  else:\n",
    "    print(f\"{x},\", end=\" \")\n",
    "\n",
    "print()  # Divide Predictions from Confidence Scores\n",
    "\n",
    "# Confidence scores\n",
    "topScore = userprediction[0][topInd]\n",
    "modifiedScore = [round(x*100, 2) for x in topScore]  # Create List of rounded confidence percentages\n",
    "modifiedScore.sort(reverse=True)  # Sort in decending order\n",
    "\n",
    "# Displays Confident Scores in your face\n",
    "print(\"Confidence Scores (top 3): \", end=\"\")\n",
    "for i, x in enumerate(modifiedScore):\n",
    "  if i == len(modifiedScore) - 1:\n",
    "    print(f\"{x}%\", end=\"\")\n",
    "  else:\n",
    "    print(f\"{x}%,\", end=\" \")"
   ]
  }
 ],
 "metadata": {
  "kernelspec": {
   "display_name": "Python 3.10.1 64-bit",
   "language": "python",
   "name": "python3"
  },
  "language_info": {
   "codemirror_mode": {
    "name": "ipython",
    "version": 3
   },
   "file_extension": ".py",
   "mimetype": "text/x-python",
   "name": "python",
   "nbconvert_exporter": "python",
   "pygments_lexer": "ipython3",
   "version": "3.10.1"
  },
  "orig_nbformat": 4,
  "vscode": {
   "interpreter": {
    "hash": "a0c7ae49d78f17e5ee497751678ee914a14173e9324dc52c0a88c28f44ecf4d4"
   }
  }
 },
 "nbformat": 4,
 "nbformat_minor": 2
}
